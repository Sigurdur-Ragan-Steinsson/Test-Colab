{
  "cells": [
    {
      "cell_type": "markdown",
      "metadata": {
        "id": "view-in-github",
        "colab_type": "text"
      },
      "source": [
        "<a href=\"https://colab.research.google.com/github/Sigurdur-Ragan-Steinsson/Test-Colab/blob/main/Test.ipynb\" target=\"_parent\"><img src=\"https://colab.research.google.com/assets/colab-badge.svg\" alt=\"Open In Colab\"/></a>"
      ]
    },
    {
      "cell_type": "code",
      "execution_count": null,
      "id": "6c61f507",
      "metadata": {
        "id": "6c61f507"
      },
      "outputs": [],
      "source": [
        "import matplotlib as mpl\n",
        "import matplotlib.pyplot as plt\n",
        "import numpy as np\n",
        "\n",
        "def backForthPass( price, sqft):\n",
        "    loss = 500000\n",
        "    weight = 1000\n",
        "    epoch = 0\n",
        "    loss_data = []\n",
        "    epoch_data = []\n",
        "    while(loss > 100000):\n",
        "        predictedPrice = (weight * sqft)\n",
        "        loss = predictedPrice - price\n",
        "        loss_data.append(loss)\n",
        "        if(loss >= 2 * price):\n",
        "            ## best denominator = 5 so far, 2 also works, 3 kind of works\n",
        "            weight = weight / 5\n",
        "        else:\n",
        "            weight -= 10\n",
        "        epoch += 1\n",
        "        epoch_data.append(epoch)\n",
        "    plt.plot(epoch_data, loss_data)\n",
        "    plt.xlabel('epoch')\n",
        "    plt.ylabel('loss')\n",
        "        \n",
        "    print(\"weight = \", weight)\n",
        "    print(\"epoch = \", epoch)\n",
        "    print(\"predicted price = \", predictedPrice)\n",
        "    print(\"loss = \", loss)\n",
        "    print(\"actual price = \", price, \"sqft = \", sqft)\n",
        "    return None"
      ]
    },
    {
      "cell_type": "code",
      "execution_count": null,
      "id": "ea470204",
      "metadata": {
        "id": "ea470204",
        "outputId": "48afcdf6-3c74-48f0-9477-9ff54fdffbbf",
        "colab": {
          "base_uri": "https://localhost:8080/",
          "height": 377
        }
      },
      "outputs": [
        {
          "output_type": "stream",
          "name": "stdout",
          "text": [
            "weight =  150.0\n",
            "epoch =  6\n",
            "predicted price =  1322400.0\n",
            "loss =  72400.0\n",
            "actual price =  1250000 sqft =  8265\n"
          ]
        },
        {
          "output_type": "display_data",
          "data": {
            "text/plain": [
              "<Figure size 432x288 with 1 Axes>"
            ],
            "image/png": "[encoded data removed]"
          },
          "metadata": {
            "needs_background": "light"
          }
        }
      ],
      "source": [
        "backForthPass(1250000, 8265)"
      ]
    },
    {
      "cell_type": "code",
      "execution_count": null,
      "id": "d7592b0a",
      "metadata": {
        "id": "d7592b0a"
      },
      "outputs": [],
      "source": [
        ""
      ]
    },
    {
      "cell_type": "markdown",
      "source": [
        "The goal of this was to essentially make a \"dumb neuron\" as an introductory challenge before we dived into the machine learning aspect of the camp"
      ],
      "metadata": {
        "id": "8HYEru-f-jOO"
      },
      "id": "8HYEru-f-jOO"
    }
  ],
  "metadata": {
    "kernelspec": {
      "display_name": "camp",
      "language": "python",
      "name": "camp"
    },
    "language_info": {
      "codemirror_mode": {
        "name": "ipython",
        "version": 3
      },
      "file_extension": ".py",
      "mimetype": "text/x-python",
      "name": "python",
      "nbconvert_exporter": "python",
      "pygments_lexer": "ipython3",
      "version": "3.10.4"
    },
    "colab": {
      "name": "Test.ipynb",
      "provenance": [],
      "include_colab_link": true
    }
  },
  "nbformat": 4,
  "nbformat_minor": 5
}